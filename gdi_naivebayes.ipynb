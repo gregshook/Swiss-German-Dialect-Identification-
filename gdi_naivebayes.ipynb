{
 "cells": [
  {
   "cell_type": "code",
   "execution_count": 2,
   "metadata": {},
   "outputs": [
    {
     "name": "stderr",
     "output_type": "stream",
     "text": [
      "C:\\Users\\gregc\\AppData\\Local\\Packages\\PythonSoftwareFoundation.Python.3.9_qbz5n2kfra8p0\\LocalCache\\local-packages\\Python39\\site-packages\\tqdm\\auto.py:21: TqdmWarning: IProgress not found. Please update jupyter and ipywidgets. See https://ipywidgets.readthedocs.io/en/stable/user_install.html\n",
      "  from .autonotebook import tqdm as notebook_tqdm\n"
     ]
    }
   ],
   "source": [
    "import pandas as pd \n",
    "from sklearn.feature_extraction.text import TfidfVectorizer\n",
    "from sklearn.naive_bayes import MultinomialNB\n",
    "from sklearn.metrics import accuracy_score, classification_report\n",
    "from transformers import AutoTokenizer"
   ]
  },
  {
   "cell_type": "code",
   "execution_count": 3,
   "metadata": {},
   "outputs": [],
   "source": [
    "train_path = 'path'\n",
    "\n",
    "train_data = pd.read_csv(train_path, sep = \"\\t\")"
   ]
  },
  {
   "cell_type": "code",
   "execution_count": 4,
   "metadata": {},
   "outputs": [
    {
     "data": {
      "text/html": [
       "<div>\n",
       "<style scoped>\n",
       "    .dataframe tbody tr th:only-of-type {\n",
       "        vertical-align: middle;\n",
       "    }\n",
       "\n",
       "    .dataframe tbody tr th {\n",
       "        vertical-align: top;\n",
       "    }\n",
       "\n",
       "    .dataframe thead th {\n",
       "        text-align: right;\n",
       "    }\n",
       "</style>\n",
       "<table border=\"1\" class=\"dataframe\">\n",
       "  <thead>\n",
       "    <tr style=\"text-align: right;\">\n",
       "      <th></th>\n",
       "      <th>Text</th>\n",
       "      <th>Label</th>\n",
       "    </tr>\n",
       "  </thead>\n",
       "  <tbody>\n",
       "    <tr>\n",
       "      <th>0</th>\n",
       "      <td>heimer de vo de weltsche truppe womer de hei g...</td>\n",
       "      <td>BE</td>\n",
       "    </tr>\n",
       "    <tr>\n",
       "      <th>1</th>\n",
       "      <td>ghüroote händ ond khinder gha händ</td>\n",
       "      <td>BS</td>\n",
       "    </tr>\n",
       "    <tr>\n",
       "      <th>2</th>\n",
       "      <td>töchterli us franggfurt gsi wo aber e schüeler...</td>\n",
       "      <td>BS</td>\n",
       "    </tr>\n",
       "    <tr>\n",
       "      <th>3</th>\n",
       "      <td>eer hend soo öich goots vöu besser</td>\n",
       "      <td>LU</td>\n",
       "    </tr>\n",
       "    <tr>\n",
       "      <th>4</th>\n",
       "      <td>art goldau</td>\n",
       "      <td>LU</td>\n",
       "    </tr>\n",
       "  </tbody>\n",
       "</table>\n",
       "</div>"
      ],
      "text/plain": [
       "                                                Text Label\n",
       "0  heimer de vo de weltsche truppe womer de hei g...    BE\n",
       "1                 ghüroote händ ond khinder gha händ    BS\n",
       "2  töchterli us franggfurt gsi wo aber e schüeler...    BS\n",
       "3                 eer hend soo öich goots vöu besser    LU\n",
       "4                                         art goldau    LU"
      ]
     },
     "execution_count": 4,
     "metadata": {},
     "output_type": "execute_result"
    }
   ],
   "source": [
    "train_data.columns = ['Text', 'Label']\n",
    "train_data.head()"
   ]
  },
  {
   "cell_type": "code",
   "execution_count": 5,
   "metadata": {},
   "outputs": [
    {
     "data": {
      "text/plain": [
       "(14645, 2)"
      ]
     },
     "execution_count": 5,
     "metadata": {},
     "output_type": "execute_result"
    }
   ],
   "source": [
    "train_data.shape"
   ]
  },
  {
   "cell_type": "code",
   "execution_count": 6,
   "metadata": {},
   "outputs": [
    {
     "data": {
      "text/plain": [
       "array(['BE', 'BS', 'LU', 'ZH'], dtype=object)"
      ]
     },
     "execution_count": 6,
     "metadata": {},
     "output_type": "execute_result"
    }
   ],
   "source": [
    "train_data['Label'].unique()"
   ]
  },
  {
   "cell_type": "code",
   "execution_count": 7,
   "metadata": {},
   "outputs": [
    {
     "data": {
      "text/html": [
       "<div>\n",
       "<style scoped>\n",
       "    .dataframe tbody tr th:only-of-type {\n",
       "        vertical-align: middle;\n",
       "    }\n",
       "\n",
       "    .dataframe tbody tr th {\n",
       "        vertical-align: top;\n",
       "    }\n",
       "\n",
       "    .dataframe thead th {\n",
       "        text-align: right;\n",
       "    }\n",
       "</style>\n",
       "<table border=\"1\" class=\"dataframe\">\n",
       "  <thead>\n",
       "    <tr style=\"text-align: right;\">\n",
       "      <th></th>\n",
       "      <th>Text</th>\n",
       "      <th>Label</th>\n",
       "    </tr>\n",
       "  </thead>\n",
       "  <tbody>\n",
       "    <tr>\n",
       "      <th>0</th>\n",
       "      <td>ich bii jo</td>\n",
       "      <td>BS</td>\n",
       "    </tr>\n",
       "    <tr>\n",
       "      <th>1</th>\n",
       "      <td>poschte welä wonner ned überchoo hät oder wais...</td>\n",
       "      <td>LU</td>\n",
       "    </tr>\n",
       "    <tr>\n",
       "      <th>2</th>\n",
       "      <td>das chönt ech also ned säägen ech</td>\n",
       "      <td>LU</td>\n",
       "    </tr>\n",
       "    <tr>\n",
       "      <th>3</th>\n",
       "      <td>ond den hend sii</td>\n",
       "      <td>LU</td>\n",
       "    </tr>\n",
       "    <tr>\n",
       "      <th>4</th>\n",
       "      <td>d leerer ond d gaischlichkeit</td>\n",
       "      <td>LU</td>\n",
       "    </tr>\n",
       "  </tbody>\n",
       "</table>\n",
       "</div>"
      ],
      "text/plain": [
       "                                                Text Label\n",
       "0                                         ich bii jo    BS\n",
       "1  poschte welä wonner ned überchoo hät oder wais...    LU\n",
       "2                  das chönt ech also ned säägen ech    LU\n",
       "3                                   ond den hend sii    LU\n",
       "4                      d leerer ond d gaischlichkeit    LU"
      ]
     },
     "execution_count": 7,
     "metadata": {},
     "output_type": "execute_result"
    }
   ],
   "source": [
    "dev_path = 'path'\n",
    "\n",
    "dev_data = pd.read_csv(dev_path, sep = \"\\t\")\n",
    "\n",
    "dev_data.columns = ['Text', 'Label']\n",
    "dev_data.head()"
   ]
  },
  {
   "cell_type": "code",
   "execution_count": 8,
   "metadata": {},
   "outputs": [
    {
     "data": {
      "text/plain": [
       "(4657, 2)"
      ]
     },
     "execution_count": 8,
     "metadata": {},
     "output_type": "execute_result"
    }
   ],
   "source": [
    "dev_data.shape"
   ]
  },
  {
   "cell_type": "markdown",
   "metadata": {},
   "source": [
    "As a control, let's quickly run a multinomial naive bayes classifier using the train and dev splits:"
   ]
  },
  {
   "cell_type": "code",
   "execution_count": 9,
   "metadata": {},
   "outputs": [
    {
     "name": "stderr",
     "output_type": "stream",
     "text": [
      "tokenizer_config.json: 100%|██████████| 25.0/25.0 [00:00<00:00, 1.67kB/s]\n",
      "C:\\Users\\gregc\\AppData\\Local\\Packages\\PythonSoftwareFoundation.Python.3.9_qbz5n2kfra8p0\\LocalCache\\local-packages\\Python39\\site-packages\\huggingface_hub\\file_download.py:147: UserWarning: `huggingface_hub` cache-system uses symlinks by default to efficiently store duplicated files but your machine does not support them in C:\\Users\\gregc\\.cache\\huggingface\\hub. Caching files will still work but in a degraded version that might require more space on your disk. This warning can be disabled by setting the `HF_HUB_DISABLE_SYMLINKS_WARNING` environment variable. For more details, see https://huggingface.co/docs/huggingface_hub/how-to-cache#limitations.\n",
      "To support symlinks on Windows, you either need to activate Developer Mode or to run Python as an administrator. In order to see activate developer mode, see this article: https://docs.microsoft.com/en-us/windows/apps/get-started/enable-your-device-for-development\n",
      "  warnings.warn(message)\n",
      "config.json: 100%|██████████| 615/615 [00:00<00:00, 34.2kB/s]\n",
      "sentencepiece.bpe.model: 100%|██████████| 5.07M/5.07M [00:00<00:00, 7.95MB/s]\n",
      "tokenizer.json: 100%|██████████| 9.10M/9.10M [00:00<00:00, 10.9MB/s]\n"
     ]
    },
    {
     "name": "stdout",
     "output_type": "stream",
     "text": [
      "                                                Text Label  \\\n",
      "0  heimer de vo de weltsche truppe womer de hei g...    BE   \n",
      "1                 ghüroote händ ond khinder gha händ    BS   \n",
      "2  töchterli us franggfurt gsi wo aber e schüeler...    BS   \n",
      "3                 eer hend soo öich goots vöu besser    LU   \n",
      "4                                         art goldau    LU   \n",
      "\n",
      "                                      Tokenized_Text  \n",
      "0  [▁heim, er, ▁de, ▁vo, ▁de, ▁wel, t, sche, ▁tru...  \n",
      "1  [▁g, hü, root, e, ▁hän, d, ▁ond, ▁khi, nder, ▁...  \n",
      "2  [▁tö, chter, li, ▁us, ▁fran, gg, fur, t, ▁g, s...  \n",
      "3  [▁e, er, ▁, hend, ▁soo, ▁ö, ich, ▁go, ots, ▁, ...  \n",
      "4                                  [▁art, ▁gold, au]  \n",
      "                                                Text Label  \\\n",
      "0                                         ich bii jo    BS   \n",
      "1  poschte welä wonner ned überchoo hät oder wais...    LU   \n",
      "2                  das chönt ech also ned säägen ech    LU   \n",
      "3                                   ond den hend sii    LU   \n",
      "4                      d leerer ond d gaischlichkeit    LU   \n",
      "\n",
      "                                      Tokenized_Text  \n",
      "0                                [▁ich, ▁bi, i, ▁jo]  \n",
      "1  [▁pos, chte, ▁wel, ä, ▁won, ner, ▁ned, ▁über, ...  \n",
      "2  [▁das, ▁ch, ön, t, ▁e, ch, ▁also, ▁ned, ▁sää, ...  \n",
      "3                        [▁ond, ▁den, ▁, hend, ▁sii]  \n",
      "4     [▁d, ▁leer, er, ▁ond, ▁d, ▁ga, isch, lichkeit]  \n"
     ]
    },
    {
     "data": {
      "text/html": [
       "<div>\n",
       "<style scoped>\n",
       "    .dataframe tbody tr th:only-of-type {\n",
       "        vertical-align: middle;\n",
       "    }\n",
       "\n",
       "    .dataframe tbody tr th {\n",
       "        vertical-align: top;\n",
       "    }\n",
       "\n",
       "    .dataframe thead th {\n",
       "        text-align: right;\n",
       "    }\n",
       "</style>\n",
       "<table border=\"1\" class=\"dataframe\">\n",
       "  <thead>\n",
       "    <tr style=\"text-align: right;\">\n",
       "      <th></th>\n",
       "      <th>Text</th>\n",
       "      <th>Label</th>\n",
       "      <th>Tokenized_Text</th>\n",
       "    </tr>\n",
       "  </thead>\n",
       "  <tbody>\n",
       "    <tr>\n",
       "      <th>0</th>\n",
       "      <td>ich bii jo</td>\n",
       "      <td>BS</td>\n",
       "      <td>[▁ich, ▁bi, i, ▁jo]</td>\n",
       "    </tr>\n",
       "    <tr>\n",
       "      <th>1</th>\n",
       "      <td>poschte welä wonner ned überchoo hät oder wais...</td>\n",
       "      <td>LU</td>\n",
       "      <td>[▁pos, chte, ▁wel, ä, ▁won, ner, ▁ned, ▁über, ...</td>\n",
       "    </tr>\n",
       "    <tr>\n",
       "      <th>2</th>\n",
       "      <td>das chönt ech also ned säägen ech</td>\n",
       "      <td>LU</td>\n",
       "      <td>[▁das, ▁ch, ön, t, ▁e, ch, ▁also, ▁ned, ▁sää, ...</td>\n",
       "    </tr>\n",
       "    <tr>\n",
       "      <th>3</th>\n",
       "      <td>ond den hend sii</td>\n",
       "      <td>LU</td>\n",
       "      <td>[▁ond, ▁den, ▁, hend, ▁sii]</td>\n",
       "    </tr>\n",
       "    <tr>\n",
       "      <th>4</th>\n",
       "      <td>d leerer ond d gaischlichkeit</td>\n",
       "      <td>LU</td>\n",
       "      <td>[▁d, ▁leer, er, ▁ond, ▁d, ▁ga, isch, lichkeit]</td>\n",
       "    </tr>\n",
       "    <tr>\n",
       "      <th>...</th>\n",
       "      <td>...</td>\n",
       "      <td>...</td>\n",
       "      <td>...</td>\n",
       "    </tr>\n",
       "    <tr>\n",
       "      <th>4652</th>\n",
       "      <td>das isch mi het ebe oo gseit mi het mi het nüü...</td>\n",
       "      <td>BE</td>\n",
       "      <td>[▁das, ▁, isch, ▁mi, ▁het, ▁e, be, ▁oo, ▁g, se...</td>\n",
       "    </tr>\n",
       "    <tr>\n",
       "      <th>4653</th>\n",
       "      <td>dert het me glächlet</td>\n",
       "      <td>BE</td>\n",
       "      <td>[▁der, t, ▁het, ▁me, ▁g, lä, ch, let]</td>\n",
       "    </tr>\n",
       "    <tr>\n",
       "      <th>4654</th>\n",
       "      <td>auf höheren befääl entlaa woorde</td>\n",
       "      <td>BE</td>\n",
       "      <td>[▁auf, ▁höhere, n, ▁be, f, ää, l, ▁en, tla, a,...</td>\n",
       "    </tr>\n",
       "    <tr>\n",
       "      <th>4655</th>\n",
       "      <td>nochethäär de ganz die ganz abe do die ganz</td>\n",
       "      <td>LU</td>\n",
       "      <td>[▁noch, eth, äär, ▁de, ▁ganz, ▁die, ▁ganz, ▁a,...</td>\n",
       "    </tr>\n",
       "    <tr>\n",
       "      <th>4656</th>\n",
       "      <td>au es veschtändnis ghaa</td>\n",
       "      <td>ZH</td>\n",
       "      <td>[▁au, ▁es, ▁ve, sch, tänd, nis, ▁gha, a]</td>\n",
       "    </tr>\n",
       "  </tbody>\n",
       "</table>\n",
       "<p>4657 rows × 3 columns</p>\n",
       "</div>"
      ],
      "text/plain": [
       "                                                   Text Label  \\\n",
       "0                                            ich bii jo    BS   \n",
       "1     poschte welä wonner ned überchoo hät oder wais...    LU   \n",
       "2                     das chönt ech also ned säägen ech    LU   \n",
       "3                                      ond den hend sii    LU   \n",
       "4                         d leerer ond d gaischlichkeit    LU   \n",
       "...                                                 ...   ...   \n",
       "4652  das isch mi het ebe oo gseit mi het mi het nüü...    BE   \n",
       "4653                               dert het me glächlet    BE   \n",
       "4654                   auf höheren befääl entlaa woorde    BE   \n",
       "4655        nochethäär de ganz die ganz abe do die ganz    LU   \n",
       "4656                            au es veschtändnis ghaa    ZH   \n",
       "\n",
       "                                         Tokenized_Text  \n",
       "0                                   [▁ich, ▁bi, i, ▁jo]  \n",
       "1     [▁pos, chte, ▁wel, ä, ▁won, ner, ▁ned, ▁über, ...  \n",
       "2     [▁das, ▁ch, ön, t, ▁e, ch, ▁also, ▁ned, ▁sää, ...  \n",
       "3                           [▁ond, ▁den, ▁, hend, ▁sii]  \n",
       "4        [▁d, ▁leer, er, ▁ond, ▁d, ▁ga, isch, lichkeit]  \n",
       "...                                                 ...  \n",
       "4652  [▁das, ▁, isch, ▁mi, ▁het, ▁e, be, ▁oo, ▁g, se...  \n",
       "4653              [▁der, t, ▁het, ▁me, ▁g, lä, ch, let]  \n",
       "4654  [▁auf, ▁höhere, n, ▁be, f, ää, l, ▁en, tla, a,...  \n",
       "4655  [▁noch, eth, äär, ▁de, ▁ganz, ▁die, ▁ganz, ▁a,...  \n",
       "4656           [▁au, ▁es, ▁ve, sch, tänd, nis, ▁gha, a]  \n",
       "\n",
       "[4657 rows x 3 columns]"
      ]
     },
     "execution_count": 9,
     "metadata": {},
     "output_type": "execute_result"
    }
   ],
   "source": [
    "def tokenize_text_roberta(df):\n",
    "    # Load RoBERTa tokenizer\n",
    "    tokenizer = AutoTokenizer.from_pretrained(\"xlm-roberta-base\")\n",
    "\n",
    "    # Tokenize the text column\n",
    "    df['Tokenized_Text'] = df[\"Text\"].apply(lambda x: tokenizer.tokenize(x))\n",
    "\n",
    "    print(df.head())\n",
    "\n",
    "    return df\n",
    "\n",
    "tokenize_text_roberta(train_data)\n",
    "tokenize_text_roberta(dev_data)"
   ]
  },
  {
   "cell_type": "code",
   "execution_count": 12,
   "metadata": {},
   "outputs": [
    {
     "data": {
      "text/plain": [
       "0    ▁heim er ▁de ▁vo ▁de ▁wel t sche ▁trup pe ▁wo ...\n",
       "1       ▁g hü root e ▁hän d ▁ond ▁khi nder ▁gha ▁hän d\n",
       "2    ▁tö chter li ▁us ▁fran gg fur t ▁g si ▁wo ▁abe...\n",
       "3      ▁e er ▁ hend ▁soo ▁ö ich ▁go ots ▁ vö u ▁besser\n",
       "4                                        ▁art ▁gold au\n",
       "5                          ▁propaganda a ▁uu szt rät e\n",
       "6    ▁und ▁da ▁het ▁s ▁o ▁nach ▁a a uko hou wu u ch...\n",
       "7    ▁was ▁me ▁wo t ▁ uf g ää ▁do ▁hä ts ▁e ▁huu fe...\n",
       "8    ▁es ▁w öör sch tli ▁plo be ▁de ▁ hend s ▁au ▁ ...\n",
       "9                ▁ isch ▁und ▁d än n ▁hä t ▁do o ▁scho\n",
       "Name: Tokenized_Text, dtype: object"
      ]
     },
     "execution_count": 12,
     "metadata": {},
     "output_type": "execute_result"
    }
   ],
   "source": [
    "train_tok[:10]"
   ]
  },
  {
   "cell_type": "code",
   "execution_count": 15,
   "metadata": {},
   "outputs": [
    {
     "name": "stdout",
     "output_type": "stream",
     "text": [
      "Accuracy: 0.5881468756710329\n",
      "              precision    recall  f1-score   support\n",
      "\n",
      "          BE       0.55      0.58      0.57      1066\n",
      "          BS       0.75      0.53      0.62      1572\n",
      "          LU       0.57      0.47      0.52      1079\n",
      "          ZH       0.51      0.81      0.63       940\n",
      "\n",
      "    accuracy                           0.59      4657\n",
      "   macro avg       0.59      0.60      0.58      4657\n",
      "weighted avg       0.61      0.59      0.59      4657\n",
      "\n"
     ]
    }
   ],
   "source": [
    "tf= TfidfVectorizer()\n",
    "\n",
    "train_tok = train_data['Tokenized_Text'].apply(lambda tokens: ' '.join(tokens)) \n",
    "dev_tok = dev_data['Tokenized_Text'].apply(lambda tokens: ' '.join(tokens)) \n",
    "\n",
    "train_vec_x = tf.fit_transform(train_tok)\n",
    "dev_vec_x = tf.transform(dev_tok)\n",
    "train_y = train_data['Label']\n",
    "dev_y = dev_data['Label']\n",
    "naive_bayes_classifier = MultinomialNB()\n",
    "naive_bayes_classifier.fit(train_vec_x, train_y)\n",
    "\n",
    "\n",
    "y_pred = naive_bayes_classifier.predict(dev_vec_x)\n",
    "\n",
    "\n",
    "accuracy = accuracy_score(dev_y, y_pred)\n",
    "print(\"Accuracy:\", accuracy)\n",
    "\n",
    "\n",
    "print(classification_report(dev_y, y_pred))"
   ]
  },
  {
   "cell_type": "markdown",
   "metadata": {},
   "source": [
    "Accuracy of .59 is about what's to be expected. The highest accuracy for this task in 2018 (using the exact same data) was .68, the lowest was .26. "
   ]
  },
  {
   "cell_type": "code",
   "execution_count": null,
   "metadata": {},
   "outputs": [],
   "source": []
  }
 ],
 "metadata": {
  "kernelspec": {
   "display_name": "Python 3",
   "language": "python",
   "name": "python3"
  },
  "language_info": {
   "codemirror_mode": {
    "name": "ipython",
    "version": 3
   },
   "file_extension": ".py",
   "mimetype": "text/x-python",
   "name": "python",
   "nbconvert_exporter": "python",
   "pygments_lexer": "ipython3",
   "version": "3.9.13"
  }
 },
 "nbformat": 4,
 "nbformat_minor": 2
}
